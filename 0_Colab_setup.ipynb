{
  "nbformat": 4,
  "nbformat_minor": 0,
  "metadata": {
    "colab": {
      "provenance": [],
      "machine_shape": "hm",
      "authorship_tag": "ABX9TyOAiqPdiVlu3DSZlD+lchzi",
      "include_colab_link": true
    },
    "kernelspec": {
      "name": "python3",
      "display_name": "Python 3"
    },
    "language_info": {
      "name": "python"
    },
    "accelerator": "GPU"
  },
  "cells": [
    {
      "cell_type": "markdown",
      "metadata": {
        "id": "view-in-github",
        "colab_type": "text"
      },
      "source": [
        "<a href=\"https://colab.research.google.com/github/FrancisLa/ACFAS/blob/main/0_Colab_setup.ipynb\" target=\"_parent\"><img src=\"https://colab.research.google.com/assets/colab-badge.svg\" alt=\"Open In Colab\"/></a>"
      ]
    },
    {
      "cell_type": "markdown",
      "metadata": {
        "id": "wV6_oTlu37-8"
      },
      "source": [
        "#TITLE\n",
        "This is where you explain what this code do."
      ]
    },
    {
      "cell_type": "markdown",
      "metadata": {
        "id": "D6nzMmra71Gs"
      },
      "source": [
        "#Initialization"
      ]
    },
    {
      "cell_type": "markdown",
      "metadata": {
        "id": "H9NVOY8E7imG"
      },
      "source": [
        "##Import standard libraries"
      ]
    },
    {
      "cell_type": "code",
      "metadata": {
        "id": "fewb7sgc5RFH"
      },
      "source": [
        "import os\n",
        "import sys\n",
        "import subprocess\n",
        "from datetime import datetime\n",
        "import numpy as np\n",
        "import pickle\n",
        "import re\n",
        "import pandas as pd\n",
        "import importlib\n",
        "import pkg_resources\n",
        "import types"
      ],
      "execution_count": null,
      "outputs": []
    },
    {
      "cell_type": "markdown",
      "source": [
        "##Import non standard libraries"
      ],
      "metadata": {
        "id": "-L4Ru3MmJYiE"
      }
    },
    {
      "cell_type": "code",
      "source": [
        "def import_or_install(package, version=None):\n",
        "    try:\n",
        "        if version is None:\n",
        "            importlib.import_module(package)\n",
        "        else:\n",
        "            dist = pkg_resources.get_distribution(package)\n",
        "            assert dist.version == version, f\"{package}=={version} not found\"\n",
        "    except (ImportError, pkg_resources.DistributionNotFound, AssertionError):\n",
        "        if version is None:\n",
        "            subprocess.check_call([sys.executable, \"-m\", \"pip\", \"install\", package])\n",
        "        else:\n",
        "            subprocess.check_call([sys.executable, \"-m\", \"pip\", \"install\", f\"{package}=={version}\"])\n",
        "    finally:\n",
        "        globals()[package] = importlib.import_module(package)\n",
        "\n",
        "import_or_install('platform')\n",
        "import_or_install('socket')\n",
        "import_or_install('uuid')\n",
        "import_or_install('psutil')\n",
        "import_or_install('GPUtil')"
      ],
      "metadata": {
        "id": "47UWnWZ1_Ut8"
      },
      "execution_count": null,
      "outputs": []
    },
    {
      "cell_type": "markdown",
      "metadata": {
        "id": "0GGBK5r95i5u"
      },
      "source": [
        "##Project name, path and authorization"
      ]
    },
    {
      "cell_type": "markdown",
      "source": [
        "\n",
        "This code uses Google drive to access the data. The project_name will be used as the main directory in Google drive (inside Colab data). It can be run locally (hosted = False) or through Colab hosting (hosted = True)."
      ],
      "metadata": {
        "id": "nn1BHlZcuYje"
      }
    },
    {
      "cell_type": "code",
      "metadata": {
        "id": "5S1_g9wwkHM8"
      },
      "source": [
        "project_name = 'Start'\n",
        "operation_name = 'up'\n",
        "hosted = True"
      ],
      "execution_count": null,
      "outputs": []
    },
    {
      "cell_type": "markdown",
      "metadata": {
        "id": "guwwvAgMd_0E"
      },
      "source": [
        "###Colab hosting"
      ]
    },
    {
      "cell_type": "code",
      "metadata": {
        "id": "puFEJJxR5vxc",
        "colab": {
          "base_uri": "https://localhost:8080/"
        },
        "outputId": "668bf4c7-9ae0-4da6-f027-1394f3975b96"
      },
      "source": [
        "if hosted:\n",
        "  from google.colab import drive\n",
        "  drive.mount('/content/gdrive',force_remount=True)\n",
        "  project_dir = '/content/gdrive/My Drive/Colab Data/' + project_name\n",
        "  operation_dir = tools_dir = '/content/gdrive/My Drive/Colab Data/'+ project_name+'/'+ operation_name\n",
        "  tools_dir = '/content/gdrive/My Drive/Colab Data/Tools'\n",
        "  os.makedirs(operation_dir, exist_ok=True)"
      ],
      "execution_count": null,
      "outputs": [
        {
          "output_type": "stream",
          "name": "stdout",
          "text": [
            "Mounted at /content/gdrive\n"
          ]
        }
      ]
    },
    {
      "cell_type": "markdown",
      "metadata": {
        "id": "fUtnDHVZeJGS"
      },
      "source": [
        "###Local hosting\n",
        "Local runtime need some preparation (https://research.google.com/colaboratory/local-runtimes.html)\n",
        "\n",
        "It might be safer to work with python 3.7.9 (https://python.org/downloads/release/python-379/)\n",
        "\n",
        "You may need to run this command line :\n",
        "\n",
        "jupyter notebook --NotebookApp.allow_origin='https://colab.research.google.com' --port=9090 --no-browser\n",
        "\n",
        "You may use google drive by installing gdrive locally."
      ]
    },
    {
      "cell_type": "code",
      "metadata": {
        "id": "FtLSr9g2ePT2"
      },
      "source": [
        "if not hosted:\n",
        "  try:\n",
        "    os.chdir(os.path.join('G:',os.sep,'Mon disque'))\n",
        "  except:\n",
        "    os.chdir(os.path.join('G:',os.sep,'My Drive'))\n",
        "  project_dir = os.path.join('Colab Data',project_name)\n",
        "  operation_dir = os.path.join('Colab Data',project_name,operation_name)\n",
        "  tools_dir = os.path.join('Colab Data','Tools')\n",
        "  os.makedirs(operation_dir, exist_ok=True)"
      ],
      "execution_count": null,
      "outputs": []
    },
    {
      "cell_type": "markdown",
      "source": [
        "## Install requirements"
      ],
      "metadata": {
        "id": "U08ziPuB0Cvw"
      }
    },
    {
      "cell_type": "markdown",
      "source": [
        "If you have a text file named *project_name_operation_name_requirements.txt* in *operation_dir*, with package and version on each line ('re==', or 'pandas==2.0.3'), this code will show them."
      ],
      "metadata": {
        "id": "7y0n2Rhiwf9d"
      }
    },
    {
      "cell_type": "code",
      "source": [
        "if os.path.isfile(os.path.join(operation_dir, project_name+'_'+operation_name+'_requirements.txt')):\n",
        "  with open(os.path.join(operation_dir, project_name+'_'+operation_name+'_requirements.txt'), 'r') as file_:\n",
        "    for line in file_:\n",
        "      package, version = line.strip().split('==')\n",
        "      if version != '':\n",
        "        print(f\"Package {package}, version {version}\")\n",
        "      else:\n",
        "        #print(f\"Package {package}\")\n",
        "        pass"
      ],
      "metadata": {
        "id": "e4VIsduO0PZY"
      },
      "execution_count": null,
      "outputs": []
    },
    {
      "cell_type": "markdown",
      "source": [
        "Import or install special needed package"
      ],
      "metadata": {
        "id": "QjszkwbP8Vc5"
      }
    },
    {
      "cell_type": "code",
      "source": [
        "#import_or_install('needed package')"
      ],
      "metadata": {
        "id": "8kT2iaDq8b71"
      },
      "execution_count": null,
      "outputs": []
    },
    {
      "cell_type": "markdown",
      "source": [
        "Run special command in command prompt"
      ],
      "metadata": {
        "id": "moRp4r4_-Ldq"
      }
    },
    {
      "cell_type": "code",
      "source": [
        "command = \"\" #put any command needed here\n",
        "result = subprocess.run(command, shell=True, capture_output=True, text=True)\n",
        "\n",
        "if result.returncode == 0:\n",
        "    print(result.stdout)\n",
        "else:\n",
        "    print(\"Error:\", result.stderr)"
      ],
      "metadata": {
        "id": "6LJH_MiD-Wh6"
      },
      "execution_count": null,
      "outputs": []
    },
    {
      "cell_type": "markdown",
      "metadata": {
        "id": "Z5EOc99o6nNv"
      },
      "source": [
        "##Import data"
      ]
    },
    {
      "cell_type": "markdown",
      "source": [
        "Assuming the data is in panda dataframe form, and encoded with pickle, let's import the data."
      ],
      "metadata": {
        "id": "xcPTuvktH4-P"
      }
    },
    {
      "cell_type": "code",
      "metadata": {
        "id": "cN6vwu596qKg"
      },
      "source": [
        "DF = pd.read_pickle(os.path.join(project_dir, operation_name, project_name+'_previous_operation_name.pkl'))"
      ],
      "execution_count": null,
      "outputs": []
    },
    {
      "cell_type": "markdown",
      "metadata": {
        "id": "nD-EpKeX3IWC"
      },
      "source": [
        "#Step 1"
      ]
    },
    {
      "cell_type": "markdown",
      "metadata": {
        "id": "N-WsM2C7f4IS"
      },
      "source": [
        "##Substep 1"
      ]
    },
    {
      "cell_type": "code",
      "metadata": {
        "id": "dcQirH252PZZ"
      },
      "source": [],
      "execution_count": null,
      "outputs": []
    },
    {
      "cell_type": "markdown",
      "metadata": {
        "id": "5hgrT2KPFrbg"
      },
      "source": [
        "#Export data"
      ]
    },
    {
      "cell_type": "markdown",
      "metadata": {
        "id": "R8Ft1DC1akfe"
      },
      "source": [
        "##System information"
      ]
    },
    {
      "cell_type": "markdown",
      "source": [
        "Note on what type of machine this code was executed."
      ],
      "metadata": {
        "id": "VrYYt-mUHYou"
      }
    },
    {
      "cell_type": "code",
      "metadata": {
        "id": "I-mRBjnJansa"
      },
      "source": [
        "info={}\n",
        "info['time'] = datetime.now()\n",
        "info['python-version'] = platform.python_version()\n",
        "info['platform'] = platform.system()\n",
        "info['platform-release'] = platform.release()\n",
        "info['platform-version'] = platform.version()\n",
        "info['architecture'] = platform.machine()\n",
        "info['hostname'] = socket.gethostname()\n",
        "info['ip-address'] = socket.gethostbyname(socket.gethostname())\n",
        "info['mac-address'] = ':'.join(re.findall('..', '%012x' % uuid.getnode()))\n",
        "info['processor'] = platform.processor()\n",
        "info['threads'] = str(psutil.cpu_count()) + ' logical cores'\n",
        "try:\n",
        "  info['speed'] = str(round(psutil.cpu_freq().current)) + \" Mhz (currently)\"\n",
        "except:\n",
        "  info['speed'] = 'unknown'\n",
        "info['ram'] = str(round(psutil.virtual_memory().total / (1024.0 **3)))+' Go'\n",
        "info['disk'] = str(round(psutil.disk_usage('/').total / (1024.0 **3)))+' Go'\n",
        "try:\n",
        "  info['gpu_total_ram'] = str(round(GPUtil.getGPUs()[0].memoryTotal / 1024.0))+' Go'\n",
        "except:\n",
        "  info['gpu_total_ram'] = 'unknown'\n",
        "try:\n",
        "  info['gpu_free_ram'] = str(round(GPUtil.getGPUs()[0].memoryFree / 1024.0))+' Go'\n",
        "except:\n",
        "  info['gpu_free_ram'] = 'unknown'\n",
        "try:\n",
        "  info['gpu_name'] = GPUtil.getGPUs()[0].name\n",
        "except:\n",
        "  info['gpu_name'] = 'unknown'\n",
        "DF_info = pd.DataFrame.from_dict(info, orient='index', columns=['Value'])"
      ],
      "execution_count": null,
      "outputs": []
    },
    {
      "cell_type": "markdown",
      "metadata": {
        "id": "9mkccVI5YXlD"
      },
      "source": [
        "##Requirements"
      ]
    },
    {
      "cell_type": "markdown",
      "source": [
        "Note the packages currently imported into the working environment."
      ],
      "metadata": {
        "id": "2uDgO_bRHvY7"
      }
    },
    {
      "cell_type": "code",
      "metadata": {
        "id": "-n9dFjQMYh9Z"
      },
      "source": [
        "module_names = set()\n",
        "for name, val in list(globals().items()):  # Create a copy of items to avoid iteration issues\n",
        "    if isinstance(val, types.ModuleType):\n",
        "        module_names.add(val.__name__)\n",
        "\n",
        "filepath=os.path.join(operation_dir, project_name+'_'+operation_name+'_requirements.txt')\n",
        "with open(filepath, 'w') as file_:\n",
        "  for name in module_names:\n",
        "    try:\n",
        "      version = pkg_resources.get_distribution(name).version\n",
        "    except:\n",
        "      version = \"\"\n",
        "    file_.write(f\"{name}=={version}\\n\")\n",
        "\n",
        "DF_requirements = pd.read_csv(filepath, sep=\"\\=\\=| @ \", header=None, engine = 'python')\n",
        "DF_requirements.columns=['pack.','ver.']"
      ],
      "execution_count": null,
      "outputs": []
    },
    {
      "cell_type": "markdown",
      "metadata": {
        "id": "g7z0mda-ZRjG"
      },
      "source": [
        "##Export dataframe to excel"
      ]
    },
    {
      "cell_type": "markdown",
      "source": [
        "Assuming the data is in panda dataframe form, let's export it to excel for easy visualization. Let's add the system information and requirements."
      ],
      "metadata": {
        "id": "UYu5GTZcITDe"
      }
    },
    {
      "cell_type": "code",
      "metadata": {
        "id": "HbUMiJU0FzFJ"
      },
      "source": [
        "writer = pd.ExcelWriter(os.path.join(operation_dir, project_name+'_'+operation_name+'.xlsx'))\n",
        "DF_info.to_excel(writer,'System')\n",
        "DF_requirements.to_excel(writer,'Module')\n",
        "DF.to_excel(writer,'Data')\n",
        "writer.close()"
      ],
      "execution_count": null,
      "outputs": []
    },
    {
      "cell_type": "markdown",
      "source": [
        "##Export dataframe to pickle"
      ],
      "metadata": {
        "id": "RRpMcP-omfMo"
      }
    },
    {
      "cell_type": "markdown",
      "source": [
        "Assuming the data is in panda dataframe form, let's export it with pickle for easy manipulation."
      ],
      "metadata": {
        "id": "gs8GaEhSJCqg"
      }
    },
    {
      "cell_type": "code",
      "source": [
        "pd.to_pickle(DF,\n",
        "             os.path.join(operation_dir, project_name+'_'+operation_name+'.pkl'))"
      ],
      "metadata": {
        "id": "aNlHD8Agmri3"
      },
      "execution_count": null,
      "outputs": []
    }
  ]
}